{
 "cells": [
  {
   "cell_type": "markdown",
   "id": "f131b452",
   "metadata": {},
   "source": [
    "A point estimate is a single value estimate of a parameter. For instance, a sample mean is a point estimate of a population mean. An interval estimate gives you a range of values where the parameter is expected to lie. A confidence interval is the most common type of interval estimate.\n"
   ]
  },
  {
   "cell_type": "markdown",
   "id": "53dd31fd",
   "metadata": {},
   "source": [
    "import statistics\n",
    " \n",
    "# creating a simple data - set\n",
    "sample = [1, 2, 3, 4, 5]\n",
    " \n",
    "# Prints standard deviation\n",
    "# xbar is set to default value of 1\n",
    "print(\"Standard Deviation of sample is % s \"\n",
    "                % (statistics.stdev(sample)))"
   ]
  },
  {
   "cell_type": "markdown",
   "id": "d67cd173",
   "metadata": {},
   "source": [
    "Hypothesis testing is used to assess the plausibility of a hypothesis by using sample data. The test provides evidence concerning the plausibility of the hypothesis, given the data. Statistical analysts test a hypothesis by measuring and examining a random sample of the population being analyzed.\n"
   ]
  },
  {
   "cell_type": "markdown",
   "id": "352727e6",
   "metadata": {},
   "source": [
    "null hypo will be  = u > female stud\n",
    "alternative hypo will be = u will not be grather than female stud"
   ]
  },
  {
   "cell_type": "markdown",
   "id": "d92bfe3e",
   "metadata": {},
   "source": [
    "Null Hypothesis: The correlation between the daily stock price change ($) and the daily stock purchases by non-management employees ($) = 0. Alternative Hypothesis: The correlation between the daily stock price change ($) and the daily stock purchases by non-management employees ($) > 0.\n"
   ]
  },
  {
   "cell_type": "markdown",
   "id": "c1030377",
   "metadata": {},
   "source": [
    "Step 1: State your null and alternate hypothesis. ...\n",
    "Step 2: Collect data. ...\n",
    "Step 3: Perform a statistical test. ...\n",
    "Step 4: Decide whether to reject or fail to reject your null hypothesis. ...\n",
    "Step 5: Present your findings."
   ]
  },
  {
   "cell_type": "markdown",
   "id": "ffff0f2d",
   "metadata": {},
   "source": [
    "The p value is a number, calculated from a statistical test, that describes how likely you are to have found a particular set of observations if the null hypothesis were true. P values are used in hypothesis testing to help decide whether to reject the null hypothesis"
   ]
  },
  {
   "cell_type": "markdown",
   "id": "933fe1a0",
   "metadata": {},
   "source": [
    "  \n",
    "from scipy.stats import t \n",
    "    \n",
    "numargs = t .numargs \n",
    "a, b = 4.32, 3.18\n",
    "rv = t (a, b) \n",
    "    \n",
    "print (\"RV : \\n\", rv) \n",
    "\n",
    "import numpy as np\n",
    "quantile = np.arange (0.01, 1, 0.1)\n",
    "\n",
    "# Random Variates\n",
    "R = t.rvs(a, b)\n",
    "print (\"Random Variates : \\n\", R)\n",
    "\n",
    "# PDF\n",
    "R = t.pdf(a, b, quantile)\n",
    "print (\"\\nProbability Distribution : \\n\", R)\n"
   ]
  },
  {
   "cell_type": "markdown",
   "id": "909e38bf",
   "metadata": {},
   "source": [
    "# Python program to display variance of data groups\n",
    "\n",
    "# Import library\n",
    "import scipy.stats as stats\n",
    "\n",
    "# Creating data groups\n",
    "data_group1 = np.array([14, 15, 15, 16, 13, 8, 14,\n",
    "\t\t\t\t\t\t17, 16, 14, 19, 20, 21, 15,\n",
    "\t\t\t\t\t\t15, 16, 16, 13, 14, 12])\n",
    "data_group2 = np.array([15, 17, 14, 17, 14, 8, 12,\n",
    "\t\t\t\t\t\t19, 19, 14, 17, 22, 24, 16,\n",
    "\t\t\t\t\t\t13, 16, 13, 18, 15, 13])\n",
    "\n",
    "# Print the variance of both data groups\n",
    "print(np.var(data_group1), np.var(data_group2))\n"
   ]
  },
  {
   "cell_type": "markdown",
   "id": "0fe89cb7",
   "metadata": {},
   "source": [
    "The t-distribution, also known as the Student's t-distribution, is a type of probability distribution that is similar to the normal distribution with its bell shape but has heavier tails. It is used for estimating population parameters for small sample sizes or unknown variances.\n"
   ]
  },
  {
   "cell_type": "markdown",
   "id": "b0c008c2",
   "metadata": {},
   "source": [
    "You can calculate a t-value using a common t-test with the formula: t = (X‾ - μ0) / (s / √n), where X‾ is the sample mean, μ0 represents the population mean, s is the standard deviation of the sample and n stands for the size of the sample."
   ]
  },
  {
   "cell_type": "code",
   "execution_count": null,
   "id": "917c0e8d",
   "metadata": {},
   "outputs": [],
   "source": [
    "rest question i hv solved in my notebook"
   ]
  }
 ],
 "metadata": {
  "kernelspec": {
   "display_name": "Python 3 (ipykernel)",
   "language": "python",
   "name": "python3"
  },
  "language_info": {
   "codemirror_mode": {
    "name": "ipython",
    "version": 3
   },
   "file_extension": ".py",
   "mimetype": "text/x-python",
   "name": "python",
   "nbconvert_exporter": "python",
   "pygments_lexer": "ipython3",
   "version": "3.9.13"
  }
 },
 "nbformat": 4,
 "nbformat_minor": 5
}
